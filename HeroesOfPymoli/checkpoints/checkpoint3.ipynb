{
 "cells": [
  {
   "cell_type": "markdown",
   "metadata": {},
   "source": [
    "### Note\n",
    "* Instructions have been included for each segment. You do not have to follow them exactly, but they are included to help you think through the steps."
   ]
  },
  {
   "cell_type": "code",
   "execution_count": 1,
   "metadata": {},
   "outputs": [],
   "source": [
    "# Dependencies and Setup\n",
    "import pandas as pd\n",
    "\n",
    "# File to Load (Remember to Change These)\n",
    "file_to_load = \"Resources/purchase_data.csv\"\n",
    "\n",
    "# Read Purchasing File and store into Pandas data frame\n",
    "purchase_data = pd.read_csv(file_to_load)"
   ]
  },
  {
   "cell_type": "markdown",
   "metadata": {},
   "source": [
    "## Player Count"
   ]
  },
  {
   "cell_type": "code",
   "execution_count": 2,
   "metadata": {},
   "outputs": [
    {
     "data": {
      "text/html": [
       "<div>\n",
       "<style scoped>\n",
       "    .dataframe tbody tr th:only-of-type {\n",
       "        vertical-align: middle;\n",
       "    }\n",
       "\n",
       "    .dataframe tbody tr th {\n",
       "        vertical-align: top;\n",
       "    }\n",
       "\n",
       "    .dataframe thead th {\n",
       "        text-align: right;\n",
       "    }\n",
       "</style>\n",
       "<table border=\"1\" class=\"dataframe\">\n",
       "  <thead>\n",
       "    <tr style=\"text-align: right;\">\n",
       "      <th></th>\n",
       "      <th>Purchase ID</th>\n",
       "      <th>SN</th>\n",
       "      <th>Age</th>\n",
       "      <th>Gender</th>\n",
       "      <th>Item ID</th>\n",
       "      <th>Item Name</th>\n",
       "      <th>Price</th>\n",
       "    </tr>\n",
       "  </thead>\n",
       "  <tbody>\n",
       "    <tr>\n",
       "      <th>0</th>\n",
       "      <td>0</td>\n",
       "      <td>Lisim78</td>\n",
       "      <td>20</td>\n",
       "      <td>Male</td>\n",
       "      <td>108</td>\n",
       "      <td>Extraction, Quickblade Of Trembling Hands</td>\n",
       "      <td>3.53</td>\n",
       "    </tr>\n",
       "    <tr>\n",
       "      <th>1</th>\n",
       "      <td>1</td>\n",
       "      <td>Lisovynya38</td>\n",
       "      <td>40</td>\n",
       "      <td>Male</td>\n",
       "      <td>143</td>\n",
       "      <td>Frenzied Scimitar</td>\n",
       "      <td>1.56</td>\n",
       "    </tr>\n",
       "    <tr>\n",
       "      <th>2</th>\n",
       "      <td>2</td>\n",
       "      <td>Ithergue48</td>\n",
       "      <td>24</td>\n",
       "      <td>Male</td>\n",
       "      <td>92</td>\n",
       "      <td>Final Critic</td>\n",
       "      <td>4.88</td>\n",
       "    </tr>\n",
       "    <tr>\n",
       "      <th>3</th>\n",
       "      <td>3</td>\n",
       "      <td>Chamassasya86</td>\n",
       "      <td>24</td>\n",
       "      <td>Male</td>\n",
       "      <td>100</td>\n",
       "      <td>Blindscythe</td>\n",
       "      <td>3.27</td>\n",
       "    </tr>\n",
       "    <tr>\n",
       "      <th>4</th>\n",
       "      <td>4</td>\n",
       "      <td>Iskosia90</td>\n",
       "      <td>23</td>\n",
       "      <td>Male</td>\n",
       "      <td>131</td>\n",
       "      <td>Fury</td>\n",
       "      <td>1.44</td>\n",
       "    </tr>\n",
       "  </tbody>\n",
       "</table>\n",
       "</div>"
      ],
      "text/plain": [
       "   Purchase ID             SN  Age Gender  Item ID  \\\n",
       "0            0        Lisim78   20   Male      108   \n",
       "1            1    Lisovynya38   40   Male      143   \n",
       "2            2     Ithergue48   24   Male       92   \n",
       "3            3  Chamassasya86   24   Male      100   \n",
       "4            4      Iskosia90   23   Male      131   \n",
       "\n",
       "                                   Item Name  Price  \n",
       "0  Extraction, Quickblade Of Trembling Hands   3.53  \n",
       "1                          Frenzied Scimitar   1.56  \n",
       "2                               Final Critic   4.88  \n",
       "3                                Blindscythe   3.27  \n",
       "4                                       Fury   1.44  "
      ]
     },
     "execution_count": 2,
     "metadata": {},
     "output_type": "execute_result"
    }
   ],
   "source": [
    "purchase_data.head()"
   ]
  },
  {
   "cell_type": "markdown",
   "metadata": {},
   "source": [
    "* Display the total number of players\n"
   ]
  },
  {
   "cell_type": "code",
   "execution_count": 3,
   "metadata": {},
   "outputs": [
    {
     "data": {
      "text/html": [
       "<div>\n",
       "<style scoped>\n",
       "    .dataframe tbody tr th:only-of-type {\n",
       "        vertical-align: middle;\n",
       "    }\n",
       "\n",
       "    .dataframe tbody tr th {\n",
       "        vertical-align: top;\n",
       "    }\n",
       "\n",
       "    .dataframe thead th {\n",
       "        text-align: right;\n",
       "    }\n",
       "</style>\n",
       "<table border=\"1\" class=\"dataframe\">\n",
       "  <thead>\n",
       "    <tr style=\"text-align: right;\">\n",
       "      <th></th>\n",
       "      <th>Total Players</th>\n",
       "    </tr>\n",
       "  </thead>\n",
       "  <tbody>\n",
       "    <tr>\n",
       "      <th>0</th>\n",
       "      <td>576</td>\n",
       "    </tr>\n",
       "  </tbody>\n",
       "</table>\n",
       "</div>"
      ],
      "text/plain": [
       "   Total Players\n",
       "0            576"
      ]
     },
     "execution_count": 3,
     "metadata": {},
     "output_type": "execute_result"
    }
   ],
   "source": [
    "unique_SN = len(purchase_data[\"SN\"].unique())\n",
    "unique_SN_df = pd.DataFrame({\"Total Players\": [unique_SN]})\n",
    "unique_SN_df"
   ]
  },
  {
   "cell_type": "markdown",
   "metadata": {},
   "source": [
    "## Purchasing Analysis (Total)"
   ]
  },
  {
   "cell_type": "markdown",
   "metadata": {},
   "source": [
    "* Run basic calculations to obtain number of unique items, average price, etc.\n",
    "\n",
    "\n",
    "* Create a summary data frame to hold the results\n",
    "\n",
    "\n",
    "* Optional: give the displayed data cleaner formatting\n",
    "\n",
    "\n",
    "* Display the summary data frame\n"
   ]
  },
  {
   "cell_type": "code",
   "execution_count": 4,
   "metadata": {},
   "outputs": [
    {
     "name": "stdout",
     "output_type": "stream",
     "text": [
      "<class 'pandas.core.frame.DataFrame'>\n",
      "RangeIndex: 780 entries, 0 to 779\n",
      "Data columns (total 7 columns):\n",
      " #   Column       Non-Null Count  Dtype  \n",
      "---  ------       --------------  -----  \n",
      " 0   Purchase ID  780 non-null    int64  \n",
      " 1   SN           780 non-null    object \n",
      " 2   Age          780 non-null    int64  \n",
      " 3   Gender       780 non-null    object \n",
      " 4   Item ID      780 non-null    int64  \n",
      " 5   Item Name    780 non-null    object \n",
      " 6   Price        780 non-null    float64\n",
      "dtypes: float64(1), int64(3), object(3)\n",
      "memory usage: 42.8+ KB\n"
     ]
    }
   ],
   "source": [
    "purchase_data.info()"
   ]
  },
  {
   "cell_type": "code",
   "execution_count": 5,
   "metadata": {
    "scrolled": true
   },
   "outputs": [
    {
     "data": {
      "text/html": [
       "<div>\n",
       "<style scoped>\n",
       "    .dataframe tbody tr th:only-of-type {\n",
       "        vertical-align: middle;\n",
       "    }\n",
       "\n",
       "    .dataframe tbody tr th {\n",
       "        vertical-align: top;\n",
       "    }\n",
       "\n",
       "    .dataframe thead th {\n",
       "        text-align: right;\n",
       "    }\n",
       "</style>\n",
       "<table border=\"1\" class=\"dataframe\">\n",
       "  <thead>\n",
       "    <tr style=\"text-align: right;\">\n",
       "      <th></th>\n",
       "      <th>Number of Unique Items</th>\n",
       "      <th>Average Price</th>\n",
       "      <th>Number of Purchases</th>\n",
       "      <th>Total Revenue</th>\n",
       "    </tr>\n",
       "  </thead>\n",
       "  <tbody>\n",
       "    <tr>\n",
       "      <th>0</th>\n",
       "      <td>179</td>\n",
       "      <td>$3.05</td>\n",
       "      <td>780</td>\n",
       "      <td>$2,379.77</td>\n",
       "    </tr>\n",
       "  </tbody>\n",
       "</table>\n",
       "</div>"
      ],
      "text/plain": [
       "   Number of Unique Items Average Price  Number of Purchases Total Revenue\n",
       "0                     179         $3.05                  780     $2,379.77"
      ]
     },
     "execution_count": 5,
     "metadata": {},
     "output_type": "execute_result"
    }
   ],
   "source": [
    "unique_items = len(purchase_data[\"Item Name\"].unique())\n",
    "average_price = '${:,.2f}'.format(purchase_data[\"Price\"].mean())\n",
    "number_of_purchases = len(purchase_data[\"Purchase ID\"].unique())\n",
    "total_revenue = '${:,.2f}'.format(purchase_data[\"Price\"].sum())\n",
    "unique_items_df = pd.DataFrame({\"Number of Unique Items\": [unique_items],\n",
    "                               \"Average Price\": [average_price],\n",
    "                               \"Number of Purchases\": [number_of_purchases],\n",
    "                               \"Total Revenue\": [total_revenue]})\n",
    "unique_items_df"
   ]
  },
  {
   "cell_type": "markdown",
   "metadata": {},
   "source": [
    "## Gender Demographics"
   ]
  },
  {
   "cell_type": "markdown",
   "metadata": {},
   "source": [
    "* Percentage and Count of Male Players\n",
    "\n",
    "\n",
    "* Percentage and Count of Female Players\n",
    "\n",
    "\n",
    "* Percentage and Count of Other / Non-Disclosed\n",
    "\n",
    "\n"
   ]
  },
  {
   "cell_type": "code",
   "execution_count": 6,
   "metadata": {},
   "outputs": [
    {
     "data": {
      "text/html": [
       "<style  type=\"text/css\" >\n",
       "</style><table id=\"T_ba213168_c45a_11ea_9059_283a4d4a56ca\" ><thead>    <tr>        <th class=\"blank level0\" ></th>        <th class=\"col_heading level0 col0\" >Total Count</th>        <th class=\"col_heading level0 col1\" >Percentage of Players</th>    </tr></thead><tbody>\n",
       "                <tr>\n",
       "                        <th id=\"T_ba213168_c45a_11ea_9059_283a4d4a56calevel0_row0\" class=\"row_heading level0 row0\" >Female</th>\n",
       "                        <td id=\"T_ba213168_c45a_11ea_9059_283a4d4a56carow0_col0\" class=\"data row0 col0\" >81</td>\n",
       "                        <td id=\"T_ba213168_c45a_11ea_9059_283a4d4a56carow0_col1\" class=\"data row0 col1\" >14.06%</td>\n",
       "            </tr>\n",
       "            <tr>\n",
       "                        <th id=\"T_ba213168_c45a_11ea_9059_283a4d4a56calevel0_row1\" class=\"row_heading level0 row1\" >Male</th>\n",
       "                        <td id=\"T_ba213168_c45a_11ea_9059_283a4d4a56carow1_col0\" class=\"data row1 col0\" >484</td>\n",
       "                        <td id=\"T_ba213168_c45a_11ea_9059_283a4d4a56carow1_col1\" class=\"data row1 col1\" >84.03%</td>\n",
       "            </tr>\n",
       "            <tr>\n",
       "                        <th id=\"T_ba213168_c45a_11ea_9059_283a4d4a56calevel0_row2\" class=\"row_heading level0 row2\" >Other / Non-Disclosed</th>\n",
       "                        <td id=\"T_ba213168_c45a_11ea_9059_283a4d4a56carow2_col0\" class=\"data row2 col0\" >11</td>\n",
       "                        <td id=\"T_ba213168_c45a_11ea_9059_283a4d4a56carow2_col1\" class=\"data row2 col1\" >1.91%</td>\n",
       "            </tr>\n",
       "    </tbody></table>"
      ],
      "text/plain": [
       "<pandas.io.formats.style.Styler at 0x1941dba0c48>"
      ]
     },
     "execution_count": 6,
     "metadata": {},
     "output_type": "execute_result"
    }
   ],
   "source": [
    "# Create new grouped data frame by gender\n",
    "gender_groups = purchase_data.groupby(['Gender'])\n",
    "\n",
    "# Count total players by age category and drop any NA values\n",
    "total_per_gender = gender_groups[\"SN\"].nunique(dropna = True) \n",
    "total_genders = total_per_gender.sum()\n",
    "\n",
    "gender_percent = total_per_gender/total_genders\n",
    "gender_counts_df = pd.DataFrame(total_per_gender)\n",
    "demo_df = gender_counts_df.rename(columns={\"SN\":\"Total Count\"})\n",
    "demo_df['Percentage of Players'] = (gender_percent)*100\n",
    "\n",
    "# Format the data frame with no index name in the corner\n",
    "demo_df.index.name = None\n",
    "\n",
    "# Format percentage with two decimal places \n",
    "demo_df.style.format({\"Percentage of Players\":\"{:,.2f}%\"})\n"
   ]
  },
  {
   "cell_type": "markdown",
   "metadata": {},
   "source": [
    "\n",
    "## Purchasing Analysis (Gender)"
   ]
  },
  {
   "cell_type": "markdown",
   "metadata": {},
   "source": [
    "* Run basic calculations to obtain purchase count, avg. purchase price, avg. purchase total per person etc. by gender\n",
    "\n",
    "\n",
    "\n",
    "\n",
    "* Create a summary data frame to hold the results\n",
    "\n",
    "\n",
    "* Optional: give the displayed data cleaner formatting\n",
    "\n",
    "\n",
    "* Display the summary data frame"
   ]
  },
  {
   "cell_type": "code",
   "execution_count": 7,
   "metadata": {},
   "outputs": [
    {
     "data": {
      "text/html": [
       "<style  type=\"text/css\" >\n",
       "</style><table id=\"T_ba2377cc_c45a_11ea_ab2a_283a4d4a56ca\" ><thead>    <tr>        <th class=\"blank level0\" ></th>        <th class=\"col_heading level0 col0\" >Purchase Count</th>        <th class=\"col_heading level0 col1\" >Average Purchase Price</th>        <th class=\"col_heading level0 col2\" >Total Purchase Value</th>        <th class=\"col_heading level0 col3\" >Avg Total Purchase per Person</th>    </tr>    <tr>        <th class=\"index_name level0\" >Gender</th>        <th class=\"blank\" ></th>        <th class=\"blank\" ></th>        <th class=\"blank\" ></th>        <th class=\"blank\" ></th>    </tr></thead><tbody>\n",
       "                <tr>\n",
       "                        <th id=\"T_ba2377cc_c45a_11ea_ab2a_283a4d4a56calevel0_row0\" class=\"row_heading level0 row0\" >Female</th>\n",
       "                        <td id=\"T_ba2377cc_c45a_11ea_ab2a_283a4d4a56carow0_col0\" class=\"data row0 col0\" >113</td>\n",
       "                        <td id=\"T_ba2377cc_c45a_11ea_ab2a_283a4d4a56carow0_col1\" class=\"data row0 col1\" >$3.20</td>\n",
       "                        <td id=\"T_ba2377cc_c45a_11ea_ab2a_283a4d4a56carow0_col2\" class=\"data row0 col2\" >$361.94</td>\n",
       "                        <td id=\"T_ba2377cc_c45a_11ea_ab2a_283a4d4a56carow0_col3\" class=\"data row0 col3\" >$0.63</td>\n",
       "            </tr>\n",
       "            <tr>\n",
       "                        <th id=\"T_ba2377cc_c45a_11ea_ab2a_283a4d4a56calevel0_row1\" class=\"row_heading level0 row1\" >Male</th>\n",
       "                        <td id=\"T_ba2377cc_c45a_11ea_ab2a_283a4d4a56carow1_col0\" class=\"data row1 col0\" >652</td>\n",
       "                        <td id=\"T_ba2377cc_c45a_11ea_ab2a_283a4d4a56carow1_col1\" class=\"data row1 col1\" >$3.02</td>\n",
       "                        <td id=\"T_ba2377cc_c45a_11ea_ab2a_283a4d4a56carow1_col2\" class=\"data row1 col2\" >$1,967.64</td>\n",
       "                        <td id=\"T_ba2377cc_c45a_11ea_ab2a_283a4d4a56carow1_col3\" class=\"data row1 col3\" >$3.42</td>\n",
       "            </tr>\n",
       "            <tr>\n",
       "                        <th id=\"T_ba2377cc_c45a_11ea_ab2a_283a4d4a56calevel0_row2\" class=\"row_heading level0 row2\" >Other / Non-Disclosed</th>\n",
       "                        <td id=\"T_ba2377cc_c45a_11ea_ab2a_283a4d4a56carow2_col0\" class=\"data row2 col0\" >15</td>\n",
       "                        <td id=\"T_ba2377cc_c45a_11ea_ab2a_283a4d4a56carow2_col1\" class=\"data row2 col1\" >$3.35</td>\n",
       "                        <td id=\"T_ba2377cc_c45a_11ea_ab2a_283a4d4a56carow2_col2\" class=\"data row2 col2\" >$50.19</td>\n",
       "                        <td id=\"T_ba2377cc_c45a_11ea_ab2a_283a4d4a56carow2_col3\" class=\"data row2 col3\" >$0.09</td>\n",
       "            </tr>\n",
       "    </tbody></table>"
      ],
      "text/plain": [
       "<pandas.io.formats.style.Styler at 0x1941e932408>"
      ]
     },
     "execution_count": 7,
     "metadata": {},
     "output_type": "execute_result"
    }
   ],
   "source": [
    "grouped_df = purchase_data.groupby(['Gender'])\n",
    "\n",
    "purchase_count = grouped_df[\"Purchase ID\"].count()\n",
    "average_price = grouped_df[\"Price\"].mean()\n",
    "total_purchase = grouped_df[\"Price\"].sum()\n",
    "avg_total_pp = total_purchase/total_genders\n",
    "#avg_total_pp\n",
    "\n",
    "summary_df=pd.DataFrame({\"Purchase Count\":purchase_count,\n",
    "                        \"Average Purchase Price\":average_price,\n",
    "                        \"Total Purchase Value\": total_purchase,\n",
    "                        \"Avg Total Purchase per Person\": avg_total_pp})\n",
    "\n",
    "# Format columns for currency\n",
    "summary_df.style.format({\"Average Purchase Price\":\"${:,.2f}\", \"Total Purchase Value\":\"${:,.2f}\", \"Avg Total Purchase per Person\":\"${:,.2f}\"})\n"
   ]
  },
  {
   "cell_type": "markdown",
   "metadata": {},
   "source": [
    "## Age Demographics"
   ]
  },
  {
   "cell_type": "markdown",
   "metadata": {},
   "source": [
    "* Establish bins for ages\n",
    "\n",
    "\n",
    "* Categorize the existing players using the age bins. Hint: use pd.cut()\n",
    "\n",
    "\n",
    "* Calculate the numbers and percentages by age group\n",
    "\n",
    "\n",
    "* Create a summary data frame to hold the results\n",
    "\n",
    "\n",
    "* Optional: round the percentage column to two decimal points\n",
    "\n",
    "\n",
    "* Display Age Demographics Table\n"
   ]
  },
  {
   "cell_type": "code",
   "execution_count": 8,
   "metadata": {},
   "outputs": [
    {
     "data": {
      "text/html": [
       "<style  type=\"text/css\" >\n",
       "</style><table id=\"T_ba265bf6_c45a_11ea_8d35_283a4d4a56ca\" ><thead>    <tr>        <th class=\"blank level0\" ></th>        <th class=\"col_heading level0 col0\" >Total Count</th>        <th class=\"col_heading level0 col1\" >Percentage of Players</th>    </tr></thead><tbody>\n",
       "                <tr>\n",
       "                        <th id=\"T_ba265bf6_c45a_11ea_8d35_283a4d4a56calevel0_row0\" class=\"row_heading level0 row0\" ><10</th>\n",
       "                        <td id=\"T_ba265bf6_c45a_11ea_8d35_283a4d4a56carow0_col0\" class=\"data row0 col0\" >17</td>\n",
       "                        <td id=\"T_ba265bf6_c45a_11ea_8d35_283a4d4a56carow0_col1\" class=\"data row0 col1\" >2.95%</td>\n",
       "            </tr>\n",
       "            <tr>\n",
       "                        <th id=\"T_ba265bf6_c45a_11ea_8d35_283a4d4a56calevel0_row1\" class=\"row_heading level0 row1\" >10-14</th>\n",
       "                        <td id=\"T_ba265bf6_c45a_11ea_8d35_283a4d4a56carow1_col0\" class=\"data row1 col0\" >22</td>\n",
       "                        <td id=\"T_ba265bf6_c45a_11ea_8d35_283a4d4a56carow1_col1\" class=\"data row1 col1\" >3.82%</td>\n",
       "            </tr>\n",
       "            <tr>\n",
       "                        <th id=\"T_ba265bf6_c45a_11ea_8d35_283a4d4a56calevel0_row2\" class=\"row_heading level0 row2\" >15-19</th>\n",
       "                        <td id=\"T_ba265bf6_c45a_11ea_8d35_283a4d4a56carow2_col0\" class=\"data row2 col0\" >107</td>\n",
       "                        <td id=\"T_ba265bf6_c45a_11ea_8d35_283a4d4a56carow2_col1\" class=\"data row2 col1\" >18.58%</td>\n",
       "            </tr>\n",
       "            <tr>\n",
       "                        <th id=\"T_ba265bf6_c45a_11ea_8d35_283a4d4a56calevel0_row3\" class=\"row_heading level0 row3\" >20-24</th>\n",
       "                        <td id=\"T_ba265bf6_c45a_11ea_8d35_283a4d4a56carow3_col0\" class=\"data row3 col0\" >258</td>\n",
       "                        <td id=\"T_ba265bf6_c45a_11ea_8d35_283a4d4a56carow3_col1\" class=\"data row3 col1\" >44.79%</td>\n",
       "            </tr>\n",
       "            <tr>\n",
       "                        <th id=\"T_ba265bf6_c45a_11ea_8d35_283a4d4a56calevel0_row4\" class=\"row_heading level0 row4\" >25-29</th>\n",
       "                        <td id=\"T_ba265bf6_c45a_11ea_8d35_283a4d4a56carow4_col0\" class=\"data row4 col0\" >77</td>\n",
       "                        <td id=\"T_ba265bf6_c45a_11ea_8d35_283a4d4a56carow4_col1\" class=\"data row4 col1\" >13.37%</td>\n",
       "            </tr>\n",
       "            <tr>\n",
       "                        <th id=\"T_ba265bf6_c45a_11ea_8d35_283a4d4a56calevel0_row5\" class=\"row_heading level0 row5\" >30-34</th>\n",
       "                        <td id=\"T_ba265bf6_c45a_11ea_8d35_283a4d4a56carow5_col0\" class=\"data row5 col0\" >52</td>\n",
       "                        <td id=\"T_ba265bf6_c45a_11ea_8d35_283a4d4a56carow5_col1\" class=\"data row5 col1\" >9.03%</td>\n",
       "            </tr>\n",
       "            <tr>\n",
       "                        <th id=\"T_ba265bf6_c45a_11ea_8d35_283a4d4a56calevel0_row6\" class=\"row_heading level0 row6\" >35-39</th>\n",
       "                        <td id=\"T_ba265bf6_c45a_11ea_8d35_283a4d4a56carow6_col0\" class=\"data row6 col0\" >31</td>\n",
       "                        <td id=\"T_ba265bf6_c45a_11ea_8d35_283a4d4a56carow6_col1\" class=\"data row6 col1\" >5.38%</td>\n",
       "            </tr>\n",
       "            <tr>\n",
       "                        <th id=\"T_ba265bf6_c45a_11ea_8d35_283a4d4a56calevel0_row7\" class=\"row_heading level0 row7\" >40+</th>\n",
       "                        <td id=\"T_ba265bf6_c45a_11ea_8d35_283a4d4a56carow7_col0\" class=\"data row7 col0\" >12</td>\n",
       "                        <td id=\"T_ba265bf6_c45a_11ea_8d35_283a4d4a56carow7_col1\" class=\"data row7 col1\" >2.08%</td>\n",
       "            </tr>\n",
       "    </tbody></table>"
      ],
      "text/plain": [
       "<pandas.io.formats.style.Styler at 0x1941db51d88>"
      ]
     },
     "execution_count": 8,
     "metadata": {},
     "output_type": "execute_result"
    }
   ],
   "source": [
    "# Create bins in which to place values based upon age\n",
    "bins = [0, 9.99, 14.99, 19.99, 24.99, 29.99, 34.99, 39.99, 50]\n",
    "\n",
    "# Create labels for these bins\n",
    "group_labels = [\"<10\", \"10-14\", \"15-19\", \"20-24\", \"25-29\", \"30-34\", \"35-39\", \"40+\"]\n",
    "\n",
    "# Place the data series into a new column inside of the DataFrame\n",
    "age_df = purchase_data\n",
    "age_df[\"Age Group\"] = pd.cut(purchase_data[\"Age\"],bins, labels=group_labels)\n",
    "\n",
    "# Create new data frame with the added \"Age Group\" and group it\n",
    "age_groups = age_df.groupby(\"Age Group\")\n",
    "\n",
    "# Count total players by age category and drop any NA values\n",
    "total_age = age_groups[\"SN\"].nunique(dropna = True) \n",
    "\n",
    "# Calculate percentages by age category \n",
    "percent_age = (total_age/unique_SN) * 100\n",
    "\n",
    "# Create data frame with obtained values\n",
    "age_demo = pd.DataFrame({\"Total Count\": total_age, \"Percentage of Players\": percent_age})\n",
    "\n",
    "# Format the data frame with no index name in the corner\n",
    "age_demo.index.name = None\n",
    "\n",
    "# Format percentage with two decimal places \n",
    "age_demo.style.format({\"Percentage of Players\":\"{:,.2f}%\"})"
   ]
  },
  {
   "cell_type": "markdown",
   "metadata": {},
   "source": [
    "## Purchasing Analysis (Age)"
   ]
  },
  {
   "cell_type": "markdown",
   "metadata": {},
   "source": [
    "* Bin the purchase_data data frame by age\n",
    "\n",
    "\n",
    "* Run basic calculations to obtain purchase count, avg. purchase price, avg. purchase total per person etc. in the table below\n",
    "\n",
    "\n",
    "* Create a summary data frame to hold the results\n",
    "\n",
    "\n",
    "* Optional: give the displayed data cleaner formatting\n",
    "\n",
    "\n",
    "* Display the summary data frame"
   ]
  },
  {
   "cell_type": "code",
   "execution_count": 9,
   "metadata": {},
   "outputs": [
    {
     "data": {
      "text/html": [
       "<style  type=\"text/css\" >\n",
       "</style><table id=\"T_ba29dc68_c45a_11ea_af9e_283a4d4a56ca\" ><thead>    <tr>        <th class=\"blank level0\" ></th>        <th class=\"col_heading level0 col0\" >Purchase Count</th>        <th class=\"col_heading level0 col1\" >Average Purchase Price</th>        <th class=\"col_heading level0 col2\" >Total Purchase Value</th>        <th class=\"col_heading level0 col3\" >Avg Total Purchase per Person</th>    </tr>    <tr>        <th class=\"index_name level0\" >Age Group</th>        <th class=\"blank\" ></th>        <th class=\"blank\" ></th>        <th class=\"blank\" ></th>        <th class=\"blank\" ></th>    </tr></thead><tbody>\n",
       "                <tr>\n",
       "                        <th id=\"T_ba29dc68_c45a_11ea_af9e_283a4d4a56calevel0_row0\" class=\"row_heading level0 row0\" ><10</th>\n",
       "                        <td id=\"T_ba29dc68_c45a_11ea_af9e_283a4d4a56carow0_col0\" class=\"data row0 col0\" >23</td>\n",
       "                        <td id=\"T_ba29dc68_c45a_11ea_af9e_283a4d4a56carow0_col1\" class=\"data row0 col1\" >$3.35</td>\n",
       "                        <td id=\"T_ba29dc68_c45a_11ea_af9e_283a4d4a56carow0_col2\" class=\"data row0 col2\" >$77.13</td>\n",
       "                        <td id=\"T_ba29dc68_c45a_11ea_af9e_283a4d4a56carow0_col3\" class=\"data row0 col3\" >$77.13</td>\n",
       "            </tr>\n",
       "            <tr>\n",
       "                        <th id=\"T_ba29dc68_c45a_11ea_af9e_283a4d4a56calevel0_row1\" class=\"row_heading level0 row1\" >10-14</th>\n",
       "                        <td id=\"T_ba29dc68_c45a_11ea_af9e_283a4d4a56carow1_col0\" class=\"data row1 col0\" >28</td>\n",
       "                        <td id=\"T_ba29dc68_c45a_11ea_af9e_283a4d4a56carow1_col1\" class=\"data row1 col1\" >$2.96</td>\n",
       "                        <td id=\"T_ba29dc68_c45a_11ea_af9e_283a4d4a56carow1_col2\" class=\"data row1 col2\" >$82.78</td>\n",
       "                        <td id=\"T_ba29dc68_c45a_11ea_af9e_283a4d4a56carow1_col3\" class=\"data row1 col3\" >$82.78</td>\n",
       "            </tr>\n",
       "            <tr>\n",
       "                        <th id=\"T_ba29dc68_c45a_11ea_af9e_283a4d4a56calevel0_row2\" class=\"row_heading level0 row2\" >15-19</th>\n",
       "                        <td id=\"T_ba29dc68_c45a_11ea_af9e_283a4d4a56carow2_col0\" class=\"data row2 col0\" >136</td>\n",
       "                        <td id=\"T_ba29dc68_c45a_11ea_af9e_283a4d4a56carow2_col1\" class=\"data row2 col1\" >$3.04</td>\n",
       "                        <td id=\"T_ba29dc68_c45a_11ea_af9e_283a4d4a56carow2_col2\" class=\"data row2 col2\" >$412.89</td>\n",
       "                        <td id=\"T_ba29dc68_c45a_11ea_af9e_283a4d4a56carow2_col3\" class=\"data row2 col3\" >$412.89</td>\n",
       "            </tr>\n",
       "            <tr>\n",
       "                        <th id=\"T_ba29dc68_c45a_11ea_af9e_283a4d4a56calevel0_row3\" class=\"row_heading level0 row3\" >20-24</th>\n",
       "                        <td id=\"T_ba29dc68_c45a_11ea_af9e_283a4d4a56carow3_col0\" class=\"data row3 col0\" >365</td>\n",
       "                        <td id=\"T_ba29dc68_c45a_11ea_af9e_283a4d4a56carow3_col1\" class=\"data row3 col1\" >$3.05</td>\n",
       "                        <td id=\"T_ba29dc68_c45a_11ea_af9e_283a4d4a56carow3_col2\" class=\"data row3 col2\" >$1,114.06</td>\n",
       "                        <td id=\"T_ba29dc68_c45a_11ea_af9e_283a4d4a56carow3_col3\" class=\"data row3 col3\" >$1,114.06</td>\n",
       "            </tr>\n",
       "            <tr>\n",
       "                        <th id=\"T_ba29dc68_c45a_11ea_af9e_283a4d4a56calevel0_row4\" class=\"row_heading level0 row4\" >25-29</th>\n",
       "                        <td id=\"T_ba29dc68_c45a_11ea_af9e_283a4d4a56carow4_col0\" class=\"data row4 col0\" >101</td>\n",
       "                        <td id=\"T_ba29dc68_c45a_11ea_af9e_283a4d4a56carow4_col1\" class=\"data row4 col1\" >$2.90</td>\n",
       "                        <td id=\"T_ba29dc68_c45a_11ea_af9e_283a4d4a56carow4_col2\" class=\"data row4 col2\" >$293.00</td>\n",
       "                        <td id=\"T_ba29dc68_c45a_11ea_af9e_283a4d4a56carow4_col3\" class=\"data row4 col3\" >$293.00</td>\n",
       "            </tr>\n",
       "            <tr>\n",
       "                        <th id=\"T_ba29dc68_c45a_11ea_af9e_283a4d4a56calevel0_row5\" class=\"row_heading level0 row5\" >30-34</th>\n",
       "                        <td id=\"T_ba29dc68_c45a_11ea_af9e_283a4d4a56carow5_col0\" class=\"data row5 col0\" >73</td>\n",
       "                        <td id=\"T_ba29dc68_c45a_11ea_af9e_283a4d4a56carow5_col1\" class=\"data row5 col1\" >$2.93</td>\n",
       "                        <td id=\"T_ba29dc68_c45a_11ea_af9e_283a4d4a56carow5_col2\" class=\"data row5 col2\" >$214.00</td>\n",
       "                        <td id=\"T_ba29dc68_c45a_11ea_af9e_283a4d4a56carow5_col3\" class=\"data row5 col3\" >$214.00</td>\n",
       "            </tr>\n",
       "            <tr>\n",
       "                        <th id=\"T_ba29dc68_c45a_11ea_af9e_283a4d4a56calevel0_row6\" class=\"row_heading level0 row6\" >35-39</th>\n",
       "                        <td id=\"T_ba29dc68_c45a_11ea_af9e_283a4d4a56carow6_col0\" class=\"data row6 col0\" >41</td>\n",
       "                        <td id=\"T_ba29dc68_c45a_11ea_af9e_283a4d4a56carow6_col1\" class=\"data row6 col1\" >$3.60</td>\n",
       "                        <td id=\"T_ba29dc68_c45a_11ea_af9e_283a4d4a56carow6_col2\" class=\"data row6 col2\" >$147.67</td>\n",
       "                        <td id=\"T_ba29dc68_c45a_11ea_af9e_283a4d4a56carow6_col3\" class=\"data row6 col3\" >$147.67</td>\n",
       "            </tr>\n",
       "            <tr>\n",
       "                        <th id=\"T_ba29dc68_c45a_11ea_af9e_283a4d4a56calevel0_row7\" class=\"row_heading level0 row7\" >40+</th>\n",
       "                        <td id=\"T_ba29dc68_c45a_11ea_af9e_283a4d4a56carow7_col0\" class=\"data row7 col0\" >13</td>\n",
       "                        <td id=\"T_ba29dc68_c45a_11ea_af9e_283a4d4a56carow7_col1\" class=\"data row7 col1\" >$2.94</td>\n",
       "                        <td id=\"T_ba29dc68_c45a_11ea_af9e_283a4d4a56carow7_col2\" class=\"data row7 col2\" >$38.24</td>\n",
       "                        <td id=\"T_ba29dc68_c45a_11ea_af9e_283a4d4a56carow7_col3\" class=\"data row7 col3\" >$38.24</td>\n",
       "            </tr>\n",
       "    </tbody></table>"
      ],
      "text/plain": [
       "<pandas.io.formats.style.Styler at 0x1941e973308>"
      ]
     },
     "execution_count": 9,
     "metadata": {},
     "output_type": "execute_result"
    }
   ],
   "source": [
    "# Create bins in which to place values based upon age\n",
    "bins = [0, 9.99, 14.99, 19.99, 24.99, 29.99, 34.99, 39.99, 50]\n",
    "\n",
    "# Create labels for these bins\n",
    "group_labels = [\"<10\", \"10-14\", \"15-19\", \"20-24\", \"25-29\", \"30-34\", \"35-39\", \"40+\"]\n",
    "\n",
    "# Place the data series into a new column inside of the DataFrame\n",
    "purchase_df = purchase_data\n",
    "purchase_df[\"Purchase Group\"] = pd.cut(purchase_data[\"Purchase ID\"],bins, labels=group_labels)\n",
    "\n",
    "# Create new data frame with the added \"Age Group\" and group it\n",
    "age_purchase_groups = purchase_df.groupby(\"Age Group\")\n",
    "age_purchase_groups.head()\n",
    "\n",
    "# Count total pruchases by age category and drop any NA values\n",
    "count_group_purchase = age_purchase_groups[\"Purchase ID\"].nunique(dropna = True)\n",
    "average_group_purchase = age_purchase_groups[\"Price\"].mean()\n",
    "total_group_purchase = age_purchase_groups[\"Price\"].sum()\n",
    "\n",
    "summary_df=pd.DataFrame({\"Purchase Count\":count_group_purchase,\n",
    "                        \"Average Purchase Price\":average_group_purchase,\n",
    "                        \"Total Purchase Value\": total_group_purchase,\n",
    "                        \"Avg Total Purchase per Person\": total_group_purchase})\n",
    "\n",
    "# Format columns for currency\n",
    "summary_df.style.format({\"Average Purchase Price\":\"${:,.2f}\", \"Total Purchase Value\":\"${:,.2f}\", \"Avg Total Purchase per Person\":\"${:,.2f}\"})\n"
   ]
  },
  {
   "cell_type": "markdown",
   "metadata": {},
   "source": [
    "## Top Spenders"
   ]
  },
  {
   "cell_type": "markdown",
   "metadata": {},
   "source": [
    "* Run basic calculations to obtain the results in the table below\n",
    "\n",
    "\n",
    "* Create a summary data frame to hold the results\n",
    "\n",
    "\n",
    "* Sort the total purchase value column in descending order\n",
    "\n",
    "\n",
    "* Optional: give the displayed data cleaner formatting\n",
    "\n",
    "\n",
    "* Display a preview of the summary data frame\n",
    "\n"
   ]
  },
  {
   "cell_type": "code",
   "execution_count": null,
   "metadata": {},
   "outputs": [],
   "source": []
  },
  {
   "cell_type": "markdown",
   "metadata": {},
   "source": [
    "## Most Popular Items"
   ]
  },
  {
   "cell_type": "markdown",
   "metadata": {},
   "source": [
    "* Retrieve the Item ID, Item Name, and Item Price columns\n",
    "\n",
    "\n",
    "* Group by Item ID and Item Name. Perform calculations to obtain purchase count, item price, and total purchase value\n",
    "\n",
    "\n",
    "* Create a summary data frame to hold the results\n",
    "\n",
    "\n",
    "* Sort the purchase count column in descending order\n",
    "\n",
    "\n",
    "* Optional: give the displayed data cleaner formatting\n",
    "\n",
    "\n",
    "* Display a preview of the summary data frame\n",
    "\n"
   ]
  },
  {
   "cell_type": "code",
   "execution_count": null,
   "metadata": {},
   "outputs": [],
   "source": []
  },
  {
   "cell_type": "markdown",
   "metadata": {},
   "source": [
    "## Most Profitable Items"
   ]
  },
  {
   "cell_type": "markdown",
   "metadata": {},
   "source": [
    "* Sort the above table by total purchase value in descending order\n",
    "\n",
    "\n",
    "* Optional: give the displayed data cleaner formatting\n",
    "\n",
    "\n",
    "* Display a preview of the data frame\n",
    "\n"
   ]
  },
  {
   "cell_type": "code",
   "execution_count": null,
   "metadata": {
    "scrolled": true
   },
   "outputs": [],
   "source": []
  }
 ],
 "metadata": {
  "anaconda-cloud": {},
  "kernel_info": {
   "name": "python3"
  },
  "kernelspec": {
   "display_name": "Python 3",
   "language": "python",
   "name": "python3"
  },
  "language_info": {
   "codemirror_mode": {
    "name": "ipython",
    "version": 3
   },
   "file_extension": ".py",
   "mimetype": "text/x-python",
   "name": "python",
   "nbconvert_exporter": "python",
   "pygments_lexer": "ipython3",
   "version": "3.7.6"
  },
  "latex_envs": {
   "LaTeX_envs_menu_present": true,
   "autoclose": false,
   "autocomplete": true,
   "bibliofile": "biblio.bib",
   "cite_by": "apalike",
   "current_citInitial": 1,
   "eqLabelWithNumbers": true,
   "eqNumInitial": 1,
   "hotkeys": {
    "equation": "Ctrl-E",
    "itemize": "Ctrl-I"
   },
   "labels_anchors": false,
   "latex_user_defs": false,
   "report_style_numbering": false,
   "user_envs_cfg": false
  },
  "nteract": {
   "version": "0.2.0"
  }
 },
 "nbformat": 4,
 "nbformat_minor": 2
}
